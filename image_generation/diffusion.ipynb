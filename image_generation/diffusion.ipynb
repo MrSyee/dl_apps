{
  "nbformat": 4,
  "nbformat_minor": 0,
  "metadata": {
    "colab": {
      "provenance": [],
      "gpuType": "T4"
    },
    "kernelspec": {
      "name": "python3",
      "display_name": "Python 3"
    },
    "language_info": {
      "name": "python"
    },
    "accelerator": "GPU"
  },
  "cells": [
    {
      "cell_type": "markdown",
      "source": [
        "# Example code of Diffusion\n",
        "Colab 환경에서 Diffusion 모델을 이미지를 생성해보는 예제입니다."
      ],
      "metadata": {
        "id": "q3tSiSGkrzBF"
      }
    },
    {
      "cell_type": "markdown",
      "source": [
        "## Colab 환경 설정\n",
        "예제를 실행시키기 위해 python package들을 설치합니다. 예제로 사용할 이미지들도 다운로드 받습니다."
      ],
      "metadata": {
        "id": "n3k_dO-UsBNa"
      }
    },
    {
      "cell_type": "code",
      "execution_count": null,
      "metadata": {
        "id": "86RmWxXxrVZ3"
      },
      "outputs": [],
      "source": [
        "# Local에서 Run하는 경우 False로 변경\n",
        "using_colab = True"
      ]
    },
    {
      "cell_type": "code",
      "source": [
        "if using_colab:\n",
        "    !wget https://raw.githubusercontent.com/mrsyee/dl_apps/main/image_generation/requirements-colab.txt\n",
        "    !pip install -r requirements-colab.txt\n",
        "\n",
        "    # Download examples\n",
        "    !mkdir examples\n",
        "    !cd examples && wget https://raw.githubusercontent.com/mrsyee/dl_apps/main/image_generation/examples/kitty.png"
      ],
      "metadata": {
        "id": "krU40qZ_rosu"
      },
      "execution_count": null,
      "outputs": []
    },
    {
      "cell_type": "markdown",
      "source": [
        "## Import dependency"
      ],
      "metadata": {
        "id": "zGu7FuessFbT"
      }
    },
    {
      "cell_type": "code",
      "source": [
        "import torch\n",
        "from diffusers import EulerAncestralDiscreteScheduler, StableDiffusionImg2ImgPipeline\n",
        "from diffusers.utils import make_image_grid\n",
        "from PIL import Image"
      ],
      "metadata": {
        "id": "b9FoapGFsCRb"
      },
      "execution_count": null,
      "outputs": []
    },
    {
      "cell_type": "markdown",
      "source": [
        "## Initialize Model"
      ],
      "metadata": {
        "id": "n4oOYQ4njgtu"
      }
    },
    {
      "cell_type": "code",
      "source": [
        "pipeline = StableDiffusionImg2ImgPipeline.from_pretrained(\n",
        "    \"runwayml/stable-diffusion-v1-5\",\n",
        "    torch_dtype=torch.float16,\n",
        ").to(\"cuda\")"
      ],
      "metadata": {
        "id": "5A3KayOssSj2"
      },
      "execution_count": null,
      "outputs": []
    },
    {
      "cell_type": "markdown",
      "source": [
        "## 예제 이미지 불러오기"
      ],
      "metadata": {
        "id": "SJ4x82kHjnsD"
      }
    },
    {
      "cell_type": "code",
      "source": [
        "input_image = Image.open(\"examples/kitty.png\")\n",
        "make_image_grid([input_image], rows=1, cols=1)"
      ],
      "metadata": {
        "id": "99Zfjuh1iYMx"
      },
      "execution_count": null,
      "outputs": []
    },
    {
      "cell_type": "markdown",
      "source": [
        "## Inference pipline"
      ],
      "metadata": {
        "id": "Fr3FOclxTlKF"
      }
    },
    {
      "cell_type": "code",
      "source": [
        "prompt = (\n",
        "    \"kitty in the city, cartoon style, drawing, detailed\"\n",
        ")\n",
        "negative_prompt = \"ugly, blurry, bad anatomy, bad art, wierd colors\""
      ],
      "metadata": {
        "id": "PgLiWafqieRh"
      },
      "execution_count": null,
      "outputs": []
    },
    {
      "cell_type": "code",
      "source": [
        "output_images = pipeline(\n",
        "    image=input_image,\n",
        "    prompt=prompt,\n",
        "    negative_prompt=negative_prompt,\n",
        "    num_images_per_prompt=4,\n",
        "    num_inference_steps=30,\n",
        "    strength=0.7,\n",
        ").images"
      ],
      "metadata": {
        "id": "MGNvO1-WurZj"
      },
      "execution_count": null,
      "outputs": []
    },
    {
      "cell_type": "code",
      "source": [
        "make_image_grid(output_images, rows=1, cols=4)"
      ],
      "metadata": {
        "id": "D-nKTYKTp1Ux"
      },
      "execution_count": null,
      "outputs": []
    },
    {
      "cell_type": "markdown",
      "source": [
        "## 다양한 diffusion 모델 다운로드하기\n",
        "- [CivitAI](https://civitai.com/models)"
      ],
      "metadata": {
        "id": "9lmMoa1TTuk7"
      }
    },
    {
      "cell_type": "code",
      "source": [
        "import os\n",
        "\n",
        "import requests\n",
        "from tqdm import tqdm"
      ],
      "metadata": {
        "id": "9ITiUf9Dfp8t"
      },
      "execution_count": null,
      "outputs": []
    },
    {
      "cell_type": "code",
      "source": [
        "url = \"https://civitai.com/models/65203/disney-pixar-cartoon-type-a\""
      ],
      "metadata": {
        "id": "gi_JyNSCftEL"
      },
      "execution_count": null,
      "outputs": []
    },
    {
      "cell_type": "code",
      "source": [
        "model_id = url.replace(\"https://civitai.com/models/\", \"\").split(\"/\")[0]\n",
        "model_id"
      ],
      "metadata": {
        "id": "yYCHe1qgfwIR"
      },
      "execution_count": null,
      "outputs": []
    },
    {
      "cell_type": "code",
      "source": [
        "response = requests.get(f\"https://civitai.com/api/v1/models/{model_id}\")\n",
        "response.json()"
      ],
      "metadata": {
        "id": "3hr-AjUqhV7Y"
      },
      "execution_count": null,
      "outputs": []
    },
    {
      "cell_type": "code",
      "source": [
        "download_url = response.json()[\"modelVersions\"][0][\"downloadUrl\"]\n",
        "filename = response.json()[\"modelVersions\"][0][\"files\"][0][\"name\"]"
      ],
      "metadata": {
        "id": "cRsOLjBTiiFS"
      },
      "execution_count": null,
      "outputs": []
    },
    {
      "cell_type": "code",
      "source": [
        "print(download_url)\n",
        "print(filename)"
      ],
      "metadata": {
        "id": "Na3-kiVtis2H"
      },
      "execution_count": null,
      "outputs": []
    },
    {
      "cell_type": "code",
      "source": [
        "def download_from_url(url: str, file_path: str, chunk_size=1024):\n",
        "    resp = requests.get(url, stream=True)\n",
        "    total = int(resp.headers.get('content-length', 0))\n",
        "    with open(file_path, 'wb') as file, tqdm(\n",
        "        desc=file_path,\n",
        "        total=total,\n",
        "        unit='iB',\n",
        "        unit_scale=True,\n",
        "        unit_divisor=1024,\n",
        "    ) as bar:\n",
        "        for data in resp.iter_content(chunk_size=chunk_size):\n",
        "            size = file.write(data)\n",
        "            bar.update(size)"
      ],
      "metadata": {
        "id": "AUNPNn9YkGXh"
      },
      "execution_count": null,
      "outputs": []
    },
    {
      "cell_type": "code",
      "source": [
        "file_path = f\"models/{filename}\"\n",
        "os.makedirs(\"models\", exist_ok=True)\n",
        "print(f\"[INFO] Download start!\")\n",
        "download_from_url(download_url, file_path)\n",
        "print(f\"\\n[INFO] File downloaded: {file_path}\")"
      ],
      "metadata": {
        "id": "DN3jqApMkHm9"
      },
      "execution_count": null,
      "outputs": []
    },
    {
      "cell_type": "markdown",
      "source": [
        "## 다운로드 받은 모델로 이미지 생성하기"
      ],
      "metadata": {
        "id": "s1kPewi4YBNv"
      }
    },
    {
      "cell_type": "code",
      "source": [
        "pipeline = StableDiffusionImg2ImgPipeline.from_single_file(\n",
        "        \"models/disneyPixarCartoon_v10.safetensors\",\n",
        "        torch_dtype=torch.float16,\n",
        "        use_safetensors=True,\n",
        ").to(\"cuda\")"
      ],
      "metadata": {
        "id": "I-bO8TUxX1Z4"
      },
      "execution_count": null,
      "outputs": []
    },
    {
      "cell_type": "code",
      "source": [
        "input_image = Image.open(\"examples/kitty.png\")\n",
        "\n",
        "prompt = (\n",
        "    \"kitty in the city, cartoon style, drawing, detailed\"\n",
        ")\n",
        "negative_prompt = \"ugly, blurry, bad anatomy, bad art, wierd colors\"\n",
        "\n",
        "output_images = pipeline(\n",
        "    image=input_image,\n",
        "    prompt=prompt,\n",
        "    negative_prompt=negative_prompt,\n",
        "    num_images_per_prompt=4,\n",
        "    num_inference_steps=30,\n",
        "    strength=0.7,\n",
        ").images"
      ],
      "metadata": {
        "id": "pRIFMf9Ad5qA"
      },
      "execution_count": null,
      "outputs": []
    },
    {
      "cell_type": "code",
      "source": [
        "make_image_grid(output_images, rows=1, cols=4)"
      ],
      "metadata": {
        "id": "1-FgyX-Kd_qY"
      },
      "execution_count": null,
      "outputs": []
    },
    {
      "cell_type": "code",
      "source": [],
      "metadata": {
        "id": "Wi3qHQ3zeAyD"
      },
      "execution_count": null,
      "outputs": []
    }
  ]
}