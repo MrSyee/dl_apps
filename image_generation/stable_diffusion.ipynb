{
  "cells": [
    {
      "cell_type": "markdown",
      "metadata": {
        "id": "q3tSiSGkrzBF"
      },
      "source": [
        "# Example code of Stable Diffusion\n",
        "Colab 환경에서 Stable Diffusion 모델을 이미지를 생성해보는 예제입니다."
      ]
    },
    {
      "cell_type": "markdown",
      "metadata": {
        "id": "n3k_dO-UsBNa"
      },
      "source": [
        "## 패키지 및 예제 데이터 다운로드하기\n",
        "예제를 실행시키기 위해 python package들을 설치합니다. 예제로 사용할 이미지들도 다운로드 받습니다. Colab에서 실행하지 않는 경우 이 셀은 실행하지 않습니다."
      ]
    },
    {
      "cell_type": "code",
      "execution_count": null,
      "metadata": {
        "id": "krU40qZ_rosu"
      },
      "outputs": [],
      "source": [
        "!wget https://raw.githubusercontent.com/mrsyee/dl_apps/main/image_generation/requirements-colab.txt\n",
        "!pip install -r requirements-colab.txt\n",
        "\n",
        "# Download examples\n",
        "!mkdir examples\n",
        "!cd examples && wget https://raw.githubusercontent.com/mrsyee/dl_apps/main/image_generation/examples/kitty.png"
      ]
    },
    {
      "cell_type": "markdown",
      "metadata": {
        "id": "zGu7FuessFbT"
      },
      "source": [
        "## 패키지 불러오기"
      ]
    },
    {
      "cell_type": "code",
      "execution_count": null,
      "metadata": {
        "id": "b9FoapGFsCRb"
      },
      "outputs": [],
      "source": [
        "import torch\n",
        "from diffusers import EulerAncestralDiscreteScheduler, StableDiffusionImg2ImgPipeline\n",
        "from diffusers.utils import make_image_grid\n",
        "from PIL import Image"
      ]
    },
    {
      "cell_type": "markdown",
      "metadata": {
        "id": "n4oOYQ4njgtu"
      },
      "source": [
        "## 사전 학습 모델 불러오기"
      ]
    },
    {
      "cell_type": "code",
      "execution_count": null,
      "metadata": {
        "id": "5A3KayOssSj2"
      },
      "outputs": [],
      "source": [
        "pipeline = StableDiffusionImg2ImgPipeline.from_pretrained(\n",
        "    \"runwayml/stable-diffusion-v1-5\",\n",
        "    torch_dtype=torch.float16,\n",
        ").to(\"cuda\")"
      ]
    },
    {
      "cell_type": "markdown",
      "metadata": {
        "id": "SJ4x82kHjnsD"
      },
      "source": [
        "## 예제 이미지 불러오기"
      ]
    },
    {
      "cell_type": "code",
      "execution_count": null,
      "metadata": {
        "id": "99Zfjuh1iYMx"
      },
      "outputs": [],
      "source": [
        "input_image = Image.open(\"examples/kitty.png\")\n",
        "make_image_grid([input_image], rows=1, cols=1)"
      ]
    },
    {
      "cell_type": "markdown",
      "metadata": {
        "id": "Fr3FOclxTlKF"
      },
      "source": [
        "## 스테이블 디퓨전 모델 추론하기"
      ]
    },
    {
      "cell_type": "code",
      "execution_count": null,
      "metadata": {
        "id": "PgLiWafqieRh"
      },
      "outputs": [],
      "source": [
        "prompt = \"kitty in the city, cartoon style, drawing, detailed\"\n",
        "negative_prompt = \"ugly, blurry, bad anatomy, bad art, wierd colors\""
      ]
    },
    {
      "cell_type": "code",
      "execution_count": null,
      "metadata": {
        "id": "MGNvO1-WurZj"
      },
      "outputs": [],
      "source": [
        "output_images = pipeline(\n",
        "    image=input_image,\n",
        "    prompt=prompt,\n",
        "    negative_prompt=negative_prompt,\n",
        "    num_images_per_prompt=4,\n",
        "    num_inference_steps=30,\n",
        "    strength=0.7,\n",
        ").images"
      ]
    },
    {
      "cell_type": "code",
      "execution_count": null,
      "metadata": {
        "id": "D-nKTYKTp1Ux"
      },
      "outputs": [],
      "source": [
        "make_image_grid(output_images, rows=1, cols=4)"
      ]
    },
    {
      "cell_type": "markdown",
      "metadata": {
        "id": "9lmMoa1TTuk7"
      },
      "source": [
        "## Civitai에서 모델 다운로드하기\n",
        "- [CivitaI](https://civitai.com/models)"
      ]
    },
    {
      "cell_type": "code",
      "execution_count": null,
      "metadata": {
        "id": "9ITiUf9Dfp8t"
      },
      "outputs": [],
      "source": [
        "import os\n",
        "\n",
        "import requests\n",
        "from tqdm import tqdm"
      ]
    },
    {
      "cell_type": "code",
      "execution_count": null,
      "metadata": {
        "id": "gi_JyNSCftEL"
      },
      "outputs": [],
      "source": [
        "url = \"https://civitai.com/models/65203/disney-pixar-cartoon-type-a\""
      ]
    },
    {
      "cell_type": "code",
      "execution_count": null,
      "metadata": {
        "id": "yYCHe1qgfwIR"
      },
      "outputs": [],
      "source": [
        "model_id = url.replace(\"https://civitai.com/models/\", \"\").split(\"/\")[0]\n",
        "print(model_id)"
      ]
    },
    {
      "cell_type": "code",
      "execution_count": null,
      "metadata": {
        "id": "3hr-AjUqhV7Y"
      },
      "outputs": [],
      "source": [
        "response = requests.get(f\"https://civitai.com/api/v1/models/{model_id}\")\n",
        "response.json()"
      ]
    },
    {
      "cell_type": "code",
      "execution_count": null,
      "metadata": {
        "id": "cRsOLjBTiiFS"
      },
      "outputs": [],
      "source": [
        "download_url = response.json()[\"modelVersions\"][0][\"downloadUrl\"]\n",
        "filename = response.json()[\"modelVersions\"][0][\"files\"][0][\"name\"]\n",
        "print(\"download_url:\", download_url)\n",
        "print(\"filename:\", filename)"
      ]
    },
    {
      "cell_type": "code",
      "execution_count": null,
      "metadata": {
        "id": "AUNPNn9YkGXh"
      },
      "outputs": [],
      "source": [
        "def download_from_url(url: str, file_path: str, chunk_size=1024):\n",
        "    resp = requests.get(url, stream=True)\n",
        "    total = int(resp.headers.get('content-length', 0))\n",
        "    with open(file_path, 'wb') as file, tqdm(\n",
        "        desc=file_path,\n",
        "        total=total,\n",
        "        unit='iB',\n",
        "        unit_scale=True,\n",
        "        unit_divisor=1024,\n",
        "    ) as bar:\n",
        "        for data in resp.iter_content(chunk_size=chunk_size):\n",
        "            size = file.write(data)\n",
        "            bar.update(size)"
      ]
    },
    {
      "cell_type": "code",
      "execution_count": null,
      "metadata": {
        "id": "DN3jqApMkHm9"
      },
      "outputs": [],
      "source": [
        "file_path = f\"models/{filename}\"\n",
        "os.makedirs(\"models\", exist_ok=True)\n",
        "print(f\"[INFO] Download start!\")\n",
        "download_from_url(download_url, file_path)\n",
        "print(f\"\\n[INFO] File downloaded: {file_path}\")"
      ]
    },
    {
      "cell_type": "markdown",
      "metadata": {
        "id": "s1kPewi4YBNv"
      },
      "source": [
        "## 다운로드한 모델로 이미지 생성하기"
      ]
    },
    {
      "cell_type": "code",
      "execution_count": null,
      "metadata": {
        "id": "I-bO8TUxX1Z4"
      },
      "outputs": [],
      "source": [
        "pipeline = StableDiffusionImg2ImgPipeline.from_single_file(\n",
        "        \"models/disneyPixarCartoon_v10.safetensors\",\n",
        "        torch_dtype=torch.float16,\n",
        "        use_safetensors=True,\n",
        ").to(\"cuda\")"
      ]
    },
    {
      "cell_type": "code",
      "execution_count": null,
      "metadata": {
        "id": "pRIFMf9Ad5qA"
      },
      "outputs": [],
      "source": [
        "input_image = Image.open(\"examples/kitty.png\")\n",
        "\n",
        "prompt = (\n",
        "    \"kitty in the city, cartoon style, drawing, detailed\"\n",
        ")\n",
        "negative_prompt = \"ugly, blurry, bad anatomy, bad art, wierd colors\"\n",
        "\n",
        "output_images = pipeline(\n",
        "    image=input_image,\n",
        "    prompt=prompt,\n",
        "    negative_prompt=negative_prompt,\n",
        "    num_images_per_prompt=4,\n",
        "    num_inference_steps=30,\n",
        "    strength=0.7,\n",
        ").images"
      ]
    },
    {
      "cell_type": "code",
      "execution_count": null,
      "metadata": {
        "id": "1-FgyX-Kd_qY"
      },
      "outputs": [],
      "source": [
        "make_image_grid(output_images, rows=1, cols=4)"
      ]
    },
    {
      "cell_type": "code",
      "execution_count": null,
      "metadata": {
        "id": "Wi3qHQ3zeAyD"
      },
      "outputs": [],
      "source": []
    }
  ],
  "metadata": {
    "accelerator": "GPU",
    "colab": {
      "gpuType": "T4",
      "provenance": []
    },
    "kernelspec": {
      "display_name": "Python 3",
      "name": "python3"
    },
    "language_info": {
      "name": "python"
    }
  },
  "nbformat": 4,
  "nbformat_minor": 0
}
