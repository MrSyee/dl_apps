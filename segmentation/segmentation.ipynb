{
 "cells": [
  {
   "attachments": {},
   "cell_type": "markdown",
   "metadata": {},
   "source": [
    "This notebook is only for COLAB."
   ]
  },
  {
   "cell_type": "code",
   "execution_count": null,
   "metadata": {},
   "outputs": [],
   "source": [
    "!pip install gradio==3.27.0"
   ]
  },
  {
   "cell_type": "code",
   "execution_count": null,
   "metadata": {},
   "outputs": [],
   "source": [
    "import gradio as gr\n",
    "\n",
    "with gr.Blocks() as demo:\n",
    "    coords = gr.Textbox(label=\"Mouse coords\")\n",
    "    with gr.Row():\n",
    "        input_img = gr.Image(label=\"Input\")\n",
    "\n",
    "    def get_coords(evt: gr.SelectData):\n",
    "        return f\"(x, y): ({evt.index[1]}, {evt.index[0]})\"\n",
    "\n",
    "    input_img.select(get_coords, None, coords)\n",
    "\n",
    "demo.launch()"
   ]
  }
 ],
 "metadata": {
  "language_info": {
   "name": "python"
  },
  "orig_nbformat": 4
 },
 "nbformat": 4,
 "nbformat_minor": 2
}
