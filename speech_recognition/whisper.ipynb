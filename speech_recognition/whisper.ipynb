{
 "cells": [
  {
   "cell_type": "markdown",
   "metadata": {
    "id": "kzNW6SzCRpXt"
   },
   "source": [
    "# Example code of Whisper\n",
    "\n",
    "Colab 환경에서 Whisper 모델을 사용해 음성을 인식하여 자막을 만듭니다."
   ]
  },
  {
   "cell_type": "markdown",
   "metadata": {
    "id": "YoPw6xcwSDew"
   },
   "source": [
    "## 패키지 및 예제 데이터 다운로드하기\n",
    "예제를 실행시키기 위해 python package들을 설치합니다. 예제로 사용할 음성 데이터도 다운로드 받습니다. Colab에서 실행하지 않는 경우 이 셀은 실행하지 않습니다."
   ]
  },
  {
   "cell_type": "code",
   "execution_count": null,
   "metadata": {
    "colab": {
     "base_uri": "https://localhost:8080/"
    },
    "id": "zmhdf8xySKVD",
    "outputId": "cce3ae0e-03ed-4a07-8e55-7011b0e6e217"
   },
   "outputs": [],
   "source": [
    "!wget https://raw.githubusercontent.com/mrsyee/dl_apps/main/speech_recognition/requirements-colab.txt\n",
    "!pip install -r requirements-colab.txt\n",
    "\n",
    "# 예제 다운로드\n",
    "!mkdir examples\n",
    "!cd examples && wget https://raw.githubusercontent.com/mrsyee/dl_apps/main/speech_recognition/examples/example.wav\n",
    "!cd examples && wget https://raw.githubusercontent.com/mrsyee/dl_apps/main/speech_recognition/examples/example2.wav\n",
    "!cd examples && wget https://raw.githubusercontent.com/mrsyee/dl_apps/main/speech_recognition/examples/example3.wav"
   ]
  },
  {
   "cell_type": "markdown",
   "metadata": {
    "id": "LYM5lrQJU2-5"
   },
   "source": [
    "## 패키지 불러오기"
   ]
  },
  {
   "cell_type": "code",
   "execution_count": null,
   "metadata": {
    "id": "cwY5JI83Uzqf"
   },
   "outputs": [],
   "source": [
    "from IPython.display import Audio\n",
    "\n",
    "from openai import OpenAI\n",
    "import whisper"
   ]
  },
  {
   "cell_type": "markdown",
   "metadata": {
    "id": "_yfmG0mBVO4h"
   },
   "source": [
    "## 사전 학습 모델 불러오기\n",
    "[Whisper 라이브러리](https://github.com/openai/whisper)의 `load_model()` 함수를 이용해 whisper 모델을 불러옵니다."
   ]
  },
  {
   "cell_type": "code",
   "execution_count": null,
   "metadata": {
    "colab": {
     "base_uri": "https://localhost:8080/"
    },
    "id": "IyYx0AsEViBw",
    "outputId": "b3b246a3-b6f1-4dd2-dfe7-fb5560a1ab76"
   },
   "outputs": [],
   "source": [
    "model = whisper.load_model(\"large\")"
   ]
  },
  {
   "cell_type": "markdown",
   "metadata": {
    "id": "rh03giDSXmWH"
   },
   "source": [
    "## 예제 음성 데이터 확인하기"
   ]
  },
  {
   "cell_type": "code",
   "execution_count": null,
   "metadata": {
    "id": "Kq6vxcSnVldf"
   },
   "outputs": [],
   "source": [
    "audio_path = \"examples/example.wav\"\n",
    "Audio(audio_path)"
   ]
  },
  {
   "cell_type": "markdown",
   "metadata": {
    "id": "y_CMnyJraqWV"
   },
   "source": [
    "## 위스퍼 모델 추론하기\n",
    "\n",
    "모델의 `transcribe()` 함수를 이용해 음성을 인식해 자막을 만듭니다."
   ]
  },
  {
   "cell_type": "code",
   "execution_count": null,
   "metadata": {
    "colab": {
     "base_uri": "https://localhost:8080/",
     "height": 35
    },
    "id": "35OowojTWBZ8",
    "outputId": "b124af6c-11b7-44ef-8bda-f3e9dc0d3555"
   },
   "outputs": [],
   "source": [
    "result = model.transcribe(audio_path)\n",
    "result[\"text\"]"
   ]
  },
  {
   "cell_type": "markdown",
   "metadata": {},
   "source": [
    "## 위스퍼 모델 API 실행하기\n",
    "OpenAI Platform의 계정에 연결된 API 키를 사용합니다. 그리고 어떤 모델을 사용할 지 설정합니다. 이 예제에서는 `whisper-1`를 사용합니다."
   ]
  },
  {
   "cell_type": "code",
   "execution_count": null,
   "metadata": {},
   "outputs": [],
   "source": [
    "# openai API 키 인증\n",
    "client = OpenAI(api_key=\"<OPENAI_API_KEY>\")"
   ]
  },
  {
   "cell_type": "code",
   "execution_count": null,
   "metadata": {},
   "outputs": [],
   "source": [
    "# 모델 - GPT 3.5 Turbo 선택\n",
    "model_name = \"whisper-1\""
   ]
  },
  {
   "cell_type": "code",
   "execution_count": null,
   "metadata": {},
   "outputs": [],
   "source": [
    "with open(audio_path, \"rb\") as audio_file:\n",
    "    transcription = client.audio.transcriptions.create(\n",
    "        model=model_name,\n",
    "        file=audio_file,\n",
    "        response_format=\"text\"\n",
    "    )"
   ]
  },
  {
   "cell_type": "code",
   "execution_count": null,
   "metadata": {},
   "outputs": [],
   "source": [
    "print(transcription)"
   ]
  },
  {
   "cell_type": "markdown",
   "metadata": {
    "id": "lFRkcC9QhMim"
   },
   "source": [
    "## 유튜브 영상 정보 가져오기"
   ]
  },
  {
   "cell_type": "code",
   "execution_count": null,
   "metadata": {
    "colab": {
     "base_uri": "https://localhost:8080/"
    },
    "id": "penb58aPW2jv",
    "outputId": "2ef6b170-6b9c-4ec1-d7ec-66254c283ae4"
   },
   "outputs": [],
   "source": [
    "# 24.10.01 youtube 링크 형식 변경 등 서비스들이 변경된 사항이 있어\n",
    "# 기존 pytube로는 대응이 안되는 경우가 생겼습니다.\n",
    "# 이에 대응하기 위해 pytube -> pytubefix 로 변경합니다.\n",
    "from pytubefix import YouTube"
   ]
  },
  {
   "cell_type": "code",
   "execution_count": null,
   "metadata": {
    "id": "kEDrT8V7h09K"
   },
   "outputs": [],
   "source": [
    "youtube_link = \"https://youtu.be/Or6zvOnSDXA?si=pVZvl2yAc9K8KJm6\""
   ]
  },
  {
   "cell_type": "code",
   "execution_count": null,
   "metadata": {
    "id": "5CQfxGuBkQkg"
   },
   "outputs": [],
   "source": [
    "yt = YouTube(youtube_link)"
   ]
  },
  {
   "cell_type": "markdown",
   "metadata": {
    "id": "lpx00eRAlx5T"
   },
   "source": [
    "## 유튜브 영상 정보 확인하기"
   ]
  },
  {
   "cell_type": "code",
   "execution_count": null,
   "metadata": {
    "colab": {
     "base_uri": "https://localhost:8080/"
    },
    "id": "Amh8VwGpltLQ",
    "outputId": "985a74bd-d24f-40d9-ade5-e0f929cba0b5"
   },
   "outputs": [],
   "source": [
    "print(\n",
    "    f\"\"\"\n",
    "    Title: {yt.title}\n",
    "    Description: {yt.description}\n",
    "    Author: {yt.author}\n",
    "    \"\"\"\n",
    ")"
   ]
  },
  {
   "cell_type": "markdown",
   "metadata": {
    "id": "4Qw8qpfml6BN"
   },
   "source": [
    "## 유튜브 음성 정보 가져오기"
   ]
  },
  {
   "cell_type": "code",
   "execution_count": null,
   "metadata": {
    "colab": {
     "base_uri": "https://localhost:8080/"
    },
    "id": "ojS1gSpPkhSC",
    "outputId": "55a23223-ab41-4d72-d02b-e54549e7f10d"
   },
   "outputs": [],
   "source": [
    "audio_streams = yt.streams.filter(type=\"audio\").order_by(\"abr\").desc()\n",
    "for stream in audio_streams:\n",
    "    print(stream)"
   ]
  },
  {
   "cell_type": "code",
   "execution_count": null,
   "metadata": {
    "colab": {
     "base_uri": "https://localhost:8080/",
     "height": 35
    },
    "id": "gcHxcR_Juog6",
    "outputId": "60bfebd1-d161-4976-ac54-09668ce5e979"
   },
   "outputs": [],
   "source": [
    "youtube_audio_path = f\"{yt.title}.webm\"\n",
    "audio_streams[0].download(filename=youtube_audio_path)"
   ]
  },
  {
   "cell_type": "code",
   "execution_count": null,
   "metadata": {
    "colab": {
     "base_uri": "https://localhost:8080/",
     "height": 75
    },
    "id": "8R4ylZSdlWt_",
    "outputId": "3eb946df-4aee-4db8-a6b8-b17ee29efee5"
   },
   "outputs": [],
   "source": [
    "Audio(youtube_audio_path)"
   ]
  },
  {
   "cell_type": "code",
   "execution_count": null,
   "metadata": {
    "colab": {
     "base_uri": "https://localhost:8080/",
     "height": 53
    },
    "id": "MUZAD7S9liS7",
    "outputId": "207b3c45-a29f-40a9-883d-8db4625432b6"
   },
   "outputs": [],
   "source": [
    "result = model.transcribe(youtube_audio_path)\n",
    "result[\"text\"]"
   ]
  },
  {
   "cell_type": "code",
   "execution_count": null,
   "metadata": {
    "id": "58DXaBWtmJKN"
   },
   "outputs": [],
   "source": []
  }
 ],
 "metadata": {
  "accelerator": "GPU",
  "colab": {
   "gpuType": "T4",
   "provenance": []
  },
  "kernelspec": {
   "display_name": "Python 3",
   "name": "python3"
  },
  "language_info": {
   "name": "python"
  }
 },
 "nbformat": 4,
 "nbformat_minor": 0
}
