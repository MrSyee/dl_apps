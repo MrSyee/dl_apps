{
  "cells": [
    {
      "cell_type": "markdown",
      "metadata": {
        "id": "kzNW6SzCRpXt"
      },
      "source": [
        "# Example code of Whisper\n",
        "\n",
        "Colab 환경에서 Whisper 모델을 사용해 음성을 인식하여 자막을 만듭니다."
      ]
    },
    {
      "cell_type": "markdown",
      "metadata": {
        "id": "YoPw6xcwSDew"
      },
      "source": [
        "## Colab 환경 설정\n",
        "예제를 실행시키기 위해 python package들을 설치합니다. 예제로 사용할 음성 데이터도 다운로드 받습니다."
      ]
    },
    {
      "cell_type": "code",
      "execution_count": null,
      "metadata": {
        "id": "UdhqmSTORJSM"
      },
      "outputs": [],
      "source": [
        "# Local에서 Run하는 경우 False로 변경\n",
        "using_colab = True"
      ]
    },
    {
      "cell_type": "code",
      "execution_count": null,
      "metadata": {
        "colab": {
          "base_uri": "https://localhost:8080/"
        },
        "id": "zmhdf8xySKVD",
        "outputId": "cce3ae0e-03ed-4a07-8e55-7011b0e6e217"
      },
      "outputs": [],
      "source": [
        "if using_colab:\n",
        "    !wget https://raw.githubusercontent.com/mrsyee/dl_apps/main/speech_recognition/requirements.txt\n",
        "    !pip install -r requirements.txt\n",
        "\n",
        "    # Download examples\n",
        "    !mkdir examples\n",
        "    !cd examples && wget https://raw.githubusercontent.com/mrsyee/dl_apps/main/speech_recognition/examples/example.wav\n",
        "    !cd examples && wget https://raw.githubusercontent.com/mrsyee/dl_apps/main/speech_recognition/examples/example2.wav\n",
        "    !cd examples && wget https://raw.githubusercontent.com/mrsyee/dl_apps/main/speech_recognition/examples/example3.wav"
      ]
    },
    {
      "cell_type": "markdown",
      "metadata": {
        "id": "LYM5lrQJU2-5"
      },
      "source": [
        "## Import dependency"
      ]
    },
    {
      "cell_type": "code",
      "execution_count": null,
      "metadata": {
        "id": "cwY5JI83Uzqf"
      },
      "outputs": [],
      "source": [
        "from IPython.display import Audio\n",
        "\n",
        "import whisper"
      ]
    },
    {
      "cell_type": "markdown",
      "metadata": {
        "id": "_yfmG0mBVO4h"
      },
      "source": [
        "## Initailize Model\n",
        "[Whisper 라이브러리](https://github.com/openai/whisper)의 `load_model()` 함수를 이용해 whisper 모델을 불러옵니다."
      ]
    },
    {
      "cell_type": "code",
      "execution_count": null,
      "metadata": {
        "colab": {
          "base_uri": "https://localhost:8080/"
        },
        "id": "IyYx0AsEViBw",
        "outputId": "b3b246a3-b6f1-4dd2-dfe7-fb5560a1ab76"
      },
      "outputs": [],
      "source": [
        "model = whisper.load_model(\"large\")"
      ]
    },
    {
      "cell_type": "markdown",
      "metadata": {
        "id": "AFYj49u-Vs84"
      },
      "source": [
        "## Inference Model\n",
        "\n",
        "모델의 `transcribe()` 함수를 이용해 음성을 인식해 자막을 만듭니다."
      ]
    },
    {
      "cell_type": "markdown",
      "metadata": {
        "id": "rh03giDSXmWH"
      },
      "source": [
        "### 예제 음성 데이터 확인"
      ]
    },
    {
      "cell_type": "code",
      "execution_count": null,
      "metadata": {
        "id": "Kq6vxcSnVldf"
      },
      "outputs": [],
      "source": [
        "audio_path = \"examples/example.wav\""
      ]
    },
    {
      "cell_type": "code",
      "execution_count": null,
      "metadata": {
        "colab": {
          "base_uri": "https://localhost:8080/",
          "height": 75
        },
        "id": "se69hfJNXozj",
        "outputId": "a5fb02d0-e6f9-4487-c928-6d65e1bfae54"
      },
      "outputs": [],
      "source": [
        "Audio(audio_path)"
      ]
    },
    {
      "cell_type": "markdown",
      "metadata": {
        "id": "y_CMnyJraqWV"
      },
      "source": [
        "### Whisper 모델 추론"
      ]
    },
    {
      "cell_type": "code",
      "execution_count": null,
      "metadata": {
        "colab": {
          "base_uri": "https://localhost:8080/",
          "height": 35
        },
        "id": "35OowojTWBZ8",
        "outputId": "b124af6c-11b7-44ef-8bda-f3e9dc0d3555"
      },
      "outputs": [],
      "source": [
        "result = model.transcribe(audio_path)\n",
        "result[\"text\"]"
      ]
    },
    {
      "cell_type": "markdown",
      "metadata": {
        "id": "lFRkcC9QhMim"
      },
      "source": [
        "## pytube 라이브러리로 Youtube 영상 정보 가져오기"
      ]
    },
    {
      "cell_type": "code",
      "execution_count": null,
      "metadata": {
        "colab": {
          "base_uri": "https://localhost:8080/"
        },
        "id": "penb58aPW2jv",
        "outputId": "2ef6b170-6b9c-4ec1-d7ec-66254c283ae4"
      },
      "outputs": [],
      "source": [
        "from pytube import YouTube"
      ]
    },
    {
      "cell_type": "code",
      "execution_count": null,
      "metadata": {
        "id": "kEDrT8V7h09K"
      },
      "outputs": [],
      "source": [
        "youtube_link = \"https://youtu.be/Or6zvOnSDXA\""
      ]
    },
    {
      "cell_type": "code",
      "execution_count": null,
      "metadata": {
        "id": "5CQfxGuBkQkg"
      },
      "outputs": [],
      "source": [
        "yt = YouTube(youtube_link)"
      ]
    },
    {
      "cell_type": "markdown",
      "metadata": {
        "id": "lpx00eRAlx5T"
      },
      "source": [
        "### 영상 정보 확인"
      ]
    },
    {
      "cell_type": "code",
      "execution_count": null,
      "metadata": {
        "colab": {
          "base_uri": "https://localhost:8080/"
        },
        "id": "Amh8VwGpltLQ",
        "outputId": "985a74bd-d24f-40d9-ade5-e0f929cba0b5"
      },
      "outputs": [],
      "source": [
        "print(f\"\"\"\n",
        "    Title: {yt.title}\n",
        "    Description: {yt.description}\n",
        "    Author: {yt.author}\n",
        "\"\"\")"
      ]
    },
    {
      "cell_type": "markdown",
      "metadata": {
        "id": "4ycznFQlsbI9"
      },
      "source": [
        "### 영상 데이터 가져오기"
      ]
    },
    {
      "cell_type": "code",
      "execution_count": null,
      "metadata": {
        "colab": {
          "base_uri": "https://localhost:8080/"
        },
        "id": "8N85g4A9n2KN",
        "outputId": "1bce6e19-8cec-4d7a-f198-87134bc6db42"
      },
      "outputs": [],
      "source": [
        "streams = yt.streams.filter(progressive=True, file_extension=\"mp4\", type=\"video\").order_by(\"resolution\").desc()\n",
        "for stream in streams:\n",
        "    print(stream)"
      ]
    },
    {
      "cell_type": "code",
      "execution_count": null,
      "metadata": {
        "colab": {
          "base_uri": "https://localhost:8080/",
          "height": 35
        },
        "id": "5uHKw89mtshw",
        "outputId": "7022fa6d-92bb-4d91-f10c-62f3580da27e"
      },
      "outputs": [],
      "source": [
        "youtube_video_path = f\"{yt.title}.mp4\"\n",
        "streams[0].download(filename=youtube_video_path)"
      ]
    },
    {
      "cell_type": "code",
      "execution_count": null,
      "metadata": {
        "colab": {
          "base_uri": "https://localhost:8080/",
          "height": 907
        },
        "id": "WfY4FWAUQ4Jf",
        "outputId": "47659660-7e32-48a0-a965-ea9002b344a0"
      },
      "outputs": [],
      "source": [
        "from IPython.display import HTML\n",
        "from base64 import b64encode\n",
        "\n",
        "with open(youtube_video_path,\"rb\") as f:\n",
        "    video = f.read()\n",
        "    data_url = \"data:video/mp4;base64,\" + b64encode(video).decode()\n",
        "\n",
        "HTML(f\"\"\"\n",
        "<video width=500 controls>\n",
        "    <source src=\"{data_url}\" type=\"video/mp4\">\n",
        "</video>\n",
        "\"\"\")"
      ]
    },
    {
      "cell_type": "markdown",
      "metadata": {
        "id": "4Qw8qpfml6BN"
      },
      "source": [
        "### 음성 데이터 가져오기"
      ]
    },
    {
      "cell_type": "code",
      "execution_count": null,
      "metadata": {
        "colab": {
          "base_uri": "https://localhost:8080/"
        },
        "id": "ojS1gSpPkhSC",
        "outputId": "55a23223-ab41-4d72-d02b-e54549e7f10d"
      },
      "outputs": [],
      "source": [
        "audio_streams = yt.streams.filter(type=\"audio\").order_by(\"abr\").desc()\n",
        "for stream in audio_streams:\n",
        "    print(stream)"
      ]
    },
    {
      "cell_type": "code",
      "execution_count": null,
      "metadata": {
        "colab": {
          "base_uri": "https://localhost:8080/",
          "height": 35
        },
        "id": "gcHxcR_Juog6",
        "outputId": "60bfebd1-d161-4976-ac54-09668ce5e979"
      },
      "outputs": [],
      "source": [
        "youtube_audio_path = f\"{yt.title}.webm\"\n",
        "audio_streams[0].download(filename=youtube_audio_path)"
      ]
    },
    {
      "cell_type": "code",
      "execution_count": null,
      "metadata": {
        "colab": {
          "base_uri": "https://localhost:8080/",
          "height": 75
        },
        "id": "8R4ylZSdlWt_",
        "outputId": "3eb946df-4aee-4db8-a6b8-b17ee29efee5"
      },
      "outputs": [],
      "source": [
        "Audio(youtube_audio_path)"
      ]
    },
    {
      "cell_type": "markdown",
      "metadata": {
        "id": "N557J6Bdl9r3"
      },
      "source": [
        "### 영상의 음성 정보를 텍스트로 인식하기"
      ]
    },
    {
      "cell_type": "code",
      "execution_count": null,
      "metadata": {
        "colab": {
          "base_uri": "https://localhost:8080/",
          "height": 53
        },
        "id": "MUZAD7S9liS7",
        "outputId": "207b3c45-a29f-40a9-883d-8db4625432b6"
      },
      "outputs": [],
      "source": [
        "result = model.transcribe(youtube_audio_path)\n",
        "result[\"text\"]"
      ]
    },
    {
      "cell_type": "code",
      "execution_count": null,
      "metadata": {
        "id": "58DXaBWtmJKN"
      },
      "outputs": [],
      "source": []
    }
  ],
  "metadata": {
    "accelerator": "GPU",
    "colab": {
      "gpuType": "T4",
      "provenance": []
    },
    "kernelspec": {
      "display_name": "Python 3",
      "name": "python3"
    },
    "language_info": {
      "name": "python"
    }
  },
  "nbformat": 4,
  "nbformat_minor": 0
}
