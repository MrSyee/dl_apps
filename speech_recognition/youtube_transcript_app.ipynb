{
  "cells": [
    {
      "cell_type": "markdown",
      "metadata": {
        "id": "D84y1tStNGjN"
      },
      "source": [
        "# 유튜브 자막 생성 Application\n",
        "\n",
        "Colab 환경에서 유튜브 자막 생성 애플리케이션을 만들어봅시다. 애플리케이션 사용자의 유스케이스는 아래와 같습니다.\n"
      ]
    },
    {
      "cell_type": "markdown",
      "metadata": {
        "id": "cIO4aVqjNPuy"
      },
      "source": [
        "## Colab 환경 설정\n",
        "python package들을 설치합니다."
      ]
    },
    {
      "cell_type": "code",
      "execution_count": null,
      "metadata": {
        "id": "c7qmFS5lM5fe"
      },
      "outputs": [],
      "source": [
        "# Local에서 Run하는 경우 False로 변경\n",
        "using_colab = True"
      ]
    },
    {
      "cell_type": "code",
      "execution_count": null,
      "metadata": {
        "id": "dInXAWusNSbJ"
      },
      "outputs": [],
      "source": [
        "if using_colab:\n",
        "    !wget https://raw.githubusercontent.com/mrsyee/dl_apps/main/speech_recognition/requirements.txt\n",
        "    !pip install -r requirements.txt"
      ]
    },
    {
      "cell_type": "markdown",
      "metadata": {
        "id": "Tf78UBanNbGl"
      },
      "source": [
        "## Import dependency"
      ]
    },
    {
      "cell_type": "code",
      "execution_count": null,
      "metadata": {
        "id": "ZvZn24lcNYzx"
      },
      "outputs": [],
      "source": [
        "import os\n",
        "\n",
        "import torch\n",
        "import gradio as gr\n",
        "from pytube import YouTube\n",
        "import whisper\n",
        "from whisper.utils import get_writer"
      ]
    },
    {
      "cell_type": "markdown",
      "metadata": {
        "id": "DoNaPHTdNg46"
      },
      "source": [
        "## UI 구성"
      ]
    },
    {
      "cell_type": "code",
      "execution_count": null,
      "metadata": {
        "id": "IAFUXgkyNl2u"
      },
      "outputs": [],
      "source": [
        "with gr.Blocks() as app:\n",
        "    gr.Markdown(\"# Speech to Text\")\n",
        "\n",
        "    with gr.Row():\n",
        "        with gr.Column(scale=1):\n",
        "            link = gr.Textbox(label=\"Youtube Link\")\n",
        "            subtile = gr.File(label=\"Subtitle\", file_types=[\".srt\"])\n",
        "            transcribe_btn = gr.Button(value=\"자막 생성!\")\n",
        "\n",
        "        with gr.Column(scale=4):\n",
        "            output_video = gr.Video(label=\"Output\", height=500)\n"
      ]
    },
    {
      "cell_type": "code",
      "execution_count": null,
      "metadata": {
        "id": "khBmRjMBSCKY"
      },
      "outputs": [],
      "source": [
        "app.launch(inline=False, share=True)"
      ]
    },
    {
      "cell_type": "code",
      "execution_count": null,
      "metadata": {
        "id": "KqExo0xfSEhw"
      },
      "outputs": [],
      "source": [
        "app.close()"
      ]
    },
    {
      "cell_type": "markdown",
      "metadata": {
        "id": "XdItYSoaZX4a"
      },
      "source": [
        "## 유튜브 링크에서 영상 가져오기"
      ]
    },
    {
      "cell_type": "code",
      "execution_count": null,
      "metadata": {
        "id": "zqsfpWe6ZXT1"
      },
      "outputs": [],
      "source": [
        "youtube_link = \"https://youtu.be/Or6zvOnSDXA\"\n",
        "yt = YouTube(youtube_link)"
      ]
    },
    {
      "cell_type": "code",
      "execution_count": null,
      "metadata": {
        "id": "WQSmq-4laer7"
      },
      "outputs": [],
      "source": [
        "streams = yt.streams.filter(progressive=True, file_extension=\"mp4\", type=\"video\").order_by(\"resolution\").desc()\n",
        "for stream in streams:\n",
        "    print(stream)"
      ]
    },
    {
      "cell_type": "code",
      "execution_count": null,
      "metadata": {
        "id": "j8krFzazaxSX"
      },
      "outputs": [],
      "source": [
        "youtube_video_path = \"video_from_youtube.mp4\"\n",
        "streams[0].download(filename=youtube_video_path)"
      ]
    },
    {
      "cell_type": "code",
      "execution_count": null,
      "metadata": {
        "id": "JqcpIU6EaqJw"
      },
      "outputs": [],
      "source": [
        "from IPython.display import HTML\n",
        "from base64 import b64encode\n",
        "\n",
        "with open(youtube_video_path,\"rb\") as f:\n",
        "    video = f.read()\n",
        "    data_url = \"data:video/mp4;base64,\" + b64encode(video).decode()\n",
        "\n",
        "HTML(f\"\"\"\n",
        "<video width=400 controls>\n",
        "      <source src=\"{data_url}\" type=\"video/mp4\">\n",
        "</video>\n",
        "\"\"\")"
      ]
    },
    {
      "cell_type": "code",
      "execution_count": null,
      "metadata": {},
      "outputs": [],
      "source": [
        "def get_video(link: str):\n",
        "    video_file_name = \"video_from_youtube.mp4\"\n",
        "    yt = YouTube(link)\n",
        "\n",
        "    # Extract video\n",
        "    streams = yt.streams.filter(progressive=True, file_extension=\"mp4\", type=\"video\").order_by(\"resolution\").desc()\n",
        "    streams[0].download(filename=video_file_name)\n",
        "\n",
        "    return video_file_name\n",
        "\n",
        "with gr.Blocks() as app:\n",
        "    gr.Markdown(\"# Speech to Text\")\n",
        "\n",
        "    with gr.Row():\n",
        "        with gr.Column(scale=1):\n",
        "            link = gr.Textbox(label=\"Youtube Link\")\n",
        "            subtile = gr.File(label=\"Subtitle\", file_types=[\".srt\"])\n",
        "            transcribe_btn = gr.Button(value=\"자막 생성!\")\n",
        "\n",
        "        with gr.Column(scale=4):\n",
        "            output_video = gr.Video(label=\"Output\", height=500)\n",
        "\n",
        "    transcribe_btn.click(get_video, [link], [output_video])"
      ]
    },
    {
      "cell_type": "code",
      "execution_count": null,
      "metadata": {},
      "outputs": [],
      "source": [
        "app.launch(inline=False, share=True)"
      ]
    },
    {
      "cell_type": "code",
      "execution_count": null,
      "metadata": {},
      "outputs": [],
      "source": [
        "app.close()"
      ]
    },
    {
      "cell_type": "markdown",
      "metadata": {
        "id": "xKAJECu6Vlmj"
      },
      "source": [
        "## Writer 클래스를 활용해 SRT 자막 파일 만들기\n",
        "ref: https://github.com/openai/whisper/blob/main/whisper/utils.py#L235"
      ]
    },
    {
      "cell_type": "code",
      "execution_count": null,
      "metadata": {
        "id": "nQie0xv-tvxh"
      },
      "outputs": [],
      "source": [
        "model = whisper.load_model(\"large\")"
      ]
    },
    {
      "cell_type": "code",
      "execution_count": null,
      "metadata": {
        "id": "EXb1A8pobfBx"
      },
      "outputs": [],
      "source": [
        "audio_file_name = \"audio_from_youtube.webm\"\n",
        "\n",
        "audio_streams = yt.streams.filter(type=\"audio\").order_by(\"abr\").desc()\n",
        "audio_streams[0].download(filename=audio_file_name)"
      ]
    },
    {
      "cell_type": "code",
      "execution_count": null,
      "metadata": {
        "id": "r_zb4PDQthET"
      },
      "outputs": [],
      "source": [
        "transcript = model.transcribe(audio_file_name)\n",
        "transcript"
      ]
    },
    {
      "cell_type": "code",
      "execution_count": null,
      "metadata": {
        "id": "bAoFbjtvpF4U"
      },
      "outputs": [],
      "source": [
        "srt_writer = get_writer(output_format=\"srt\", output_dir=\".\")\n",
        "srt_writer(transcript, audio_file_name)\n",
        "!cat audio_from_youtube.srt"
      ]
    },
    {
      "cell_type": "code",
      "execution_count": null,
      "metadata": {
        "id": "TXhnarfCpJuA"
      },
      "outputs": [],
      "source": [
        "del model\n",
        "torch.cuda.empty_cache()"
      ]
    },
    {
      "cell_type": "markdown",
      "metadata": {
        "id": "WxrDjp8ISF7j"
      },
      "source": [
        "## Whisper 추론기"
      ]
    },
    {
      "cell_type": "code",
      "execution_count": null,
      "metadata": {
        "id": "HnlZN5GUSFgs"
      },
      "outputs": [],
      "source": [
        "class WhisperInferencer:\n",
        "    def __init__(self):\n",
        "        self.output_dir = \"outputs\"\n",
        "        self.model = whisper.load_model(\"large\")\n",
        "        self.srt_writer = get_writer(output_format=\"srt\", output_dir=\".\")\n",
        "\n",
        "    def inference(self, audio_file_path: str) -> str:\n",
        "        transcript = self.model.transcribe(audio_file_path)\n",
        "        self.srt_writer(transcript, audio_file_path)\n",
        "\n",
        "        filename = os.path.basename(audio_file_path)\n",
        "        filename = filename.split(\".\")[0]\n",
        "\n",
        "        return f\"{filename}.srt\"\n",
        "\n",
        "whipser_inferencer = WhisperInferencer()"
      ]
    },
    {
      "cell_type": "code",
      "execution_count": null,
      "metadata": {
        "id": "F22Kcq8yqj7v"
      },
      "outputs": [],
      "source": [
        "def transcribe(link: str):\n",
        "    video_file_name = \"video_from_youtube.mp4\"\n",
        "    audio_file_name = \"audio_from_youtube.webm\"\n",
        "    yt = YouTube(link)\n",
        "\n",
        "    # Extract video\n",
        "    streams = yt.streams.filter(progressive=True, file_extension=\"mp4\", type=\"video\").order_by(\"resolution\").desc()\n",
        "    streams[0].download(filename=video_file_name)\n",
        "\n",
        "    # Extract audio\n",
        "    audio_streams = yt.streams.filter(type=\"audio\").order_by(\"abr\").desc()\n",
        "    audio_streams[0].download(filename=audio_file_name)\n",
        "\n",
        "    transcript_file = whipser_inferencer.inference(audio_file_name)\n",
        "    return transcript_file, [video_file_name, transcript_file]"
      ]
    },
    {
      "cell_type": "code",
      "execution_count": null,
      "metadata": {
        "id": "TiPGMTnZrApw"
      },
      "outputs": [],
      "source": [
        "with gr.Blocks() as app:\n",
        "    gr.Markdown(\"# Speech to Text\")\n",
        "\n",
        "    with gr.Row():\n",
        "        with gr.Column(scale=1):\n",
        "            link = gr.Textbox(label=\"Youtube Link\")\n",
        "            subtile = gr.File(label=\"Subtitle\", file_types=[\".srt\"])\n",
        "            transcribe_btn = gr.Button(value=\"자막 생성!\")\n",
        "\n",
        "        with gr.Column(scale=4):\n",
        "            output_video = gr.Video(label=\"Output\", height=500)\n",
        "\n",
        "    transcribe_btn.click(transcribe, [link], [subtile, output_video])"
      ]
    },
    {
      "cell_type": "code",
      "execution_count": null,
      "metadata": {
        "id": "HtzCn_EYr13z"
      },
      "outputs": [],
      "source": [
        "app.launch(inline=False, share=True)"
      ]
    },
    {
      "cell_type": "code",
      "execution_count": null,
      "metadata": {
        "id": "gd2Emv20r3wf"
      },
      "outputs": [],
      "source": [
        "app.close()\n",
        "del whipser_inferencer\n",
        "torch.cuda.empty_cache()"
      ]
    },
    {
      "cell_type": "markdown",
      "metadata": {
        "id": "vOf2o5eKNpNV"
      },
      "source": [
        "## 최종 App 구현"
      ]
    },
    {
      "cell_type": "code",
      "execution_count": null,
      "metadata": {
        "id": "IzrzHXGUOiNA"
      },
      "outputs": [],
      "source": [
        "import os\n",
        "\n",
        "import gradio as gr\n",
        "import whisper\n",
        "from pytube import YouTube\n",
        "from whisper.utils import get_writer\n",
        "\n",
        "class WhisperInferencer:\n",
        "    def __init__(self):\n",
        "        self.output_dir = \"outputs\"\n",
        "        self.model = whisper.load_model(\"large\")\n",
        "        self.srt_writer = get_writer(output_format=\"srt\", output_dir=\".\")\n",
        "\n",
        "    def inference(self, audio_file_path: str) -> str:\n",
        "        transcript = self.model.transcribe(audio_file_path)\n",
        "        self.srt_writer(transcript, audio_file_path)\n",
        "\n",
        "        filename = os.path.basename(audio_file_path)\n",
        "        filename = filename.split(\".\")[0]\n",
        "\n",
        "        return f\"{filename}.srt\"\n",
        "\n",
        "whipser_inferencer = WhisperInferencer()\n",
        "\n",
        "def transcribe(link: str):\n",
        "    video_file_name = \"video_from_youtube.mp4\"\n",
        "    audio_file_name = \"audio_from_youtube.webm\"\n",
        "    yt = YouTube(link)\n",
        "\n",
        "    # Extract video\n",
        "    streams = yt.streams.filter(progressive=True, file_extension=\"mp4\", type=\"video\").order_by(\"resolution\").desc()\n",
        "    streams[0].download(filename=video_file_name)\n",
        "\n",
        "    # Extract audio\n",
        "    audio_streams = yt.streams.filter(type=\"audio\").order_by(\"abr\").desc()\n",
        "    audio_streams[0].download(filename=audio_file_name)\n",
        "\n",
        "    transcript_file = whipser_inferencer.inference(audio_file_name)\n",
        "    return transcript_file, [video_file_name, transcript_file]\n",
        "\n",
        "# Set gradio app\n",
        "with gr.Blocks() as app:\n",
        "    gr.Markdown(\"# Speech to Text\")\n",
        "\n",
        "    with gr.Row():\n",
        "        with gr.Column(scale=1):\n",
        "            link = gr.Textbox(label=\"Youtube Link\")\n",
        "            subtile = gr.File(label=\"Subtitle\", file_types=[\".srt\"])\n",
        "            transcribe_btn = gr.Button(value=\"자막 생성!\")\n",
        "\n",
        "        with gr.Column(scale=4):\n",
        "            output_video = gr.Video(label=\"Output\", height=500)\n",
        "\n",
        "    transcribe_btn.click(transcribe, [link], [subtile, output_video])\n",
        "\n",
        "app.launch(inline=False, share=True)"
      ]
    },
    {
      "cell_type": "code",
      "execution_count": null,
      "metadata": {
        "id": "HyyRR2jBR13M"
      },
      "outputs": [],
      "source": [
        "app.close()\n",
        "del whipser_inferencer\n",
        "torch.cuda.empty_cache()"
      ]
    },
    {
      "cell_type": "code",
      "execution_count": null,
      "metadata": {
        "id": "Uo2B8sw-R8Ce"
      },
      "outputs": [],
      "source": []
    }
  ],
  "metadata": {
    "accelerator": "GPU",
    "colab": {
      "gpuType": "T4",
      "provenance": []
    },
    "kernelspec": {
      "display_name": "Python 3",
      "name": "python3"
    },
    "language_info": {
      "name": "python"
    }
  },
  "nbformat": 4,
  "nbformat_minor": 0
}
